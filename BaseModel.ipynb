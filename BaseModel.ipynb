{
 "cells": [
  {
   "cell_type": "markdown",
   "metadata": {},
   "source": [
    "## 데이터 분할"
   ]
  },
  {
   "cell_type": "markdown",
   "metadata": {},
   "source": [
    "현재 원본 데이터 셋은 Rawdata에 저장되어 있으며, 각 이미지의 분류 클래스가 폴더로 구분되어 있는 형태 <br>\n",
    "_e.g. Apple\\_\\_healthy, Apple\\_\\_Black\\_rot_ <br><br>\n",
    "이 데이터 셋을 train, val, test 세 데이터 셋으로 분할 해야함"
   ]
  },
  {
   "cell_type": "markdown",
   "metadata": {},
   "source": [
    "### [데이터 분할을 위한 폴더 생성]"
   ]
  },
  {
   "cell_type": "code",
   "execution_count": 2,
   "metadata": {},
   "outputs": [],
   "source": [
    "import os\n",
    "import shutil\n",
    "\n",
    "original_dataset_dir = './Rawdata'\n",
    "classes_list = os.listdir(original_dataset_dir)\n",
    "\n",
    "base_dir = './dataset'\n",
    "\n",
    "if not os.path.isdir(base_dir):\n",
    "    os.mkdir(base_dir)\n",
    "\n",
    "train_dir = os.path.join(base_dir, 'train')\n",
    "val_dir = os.path.join(base_dir, 'val')\n",
    "test_dir = os.path.join(base_dir, 'test')\n",
    "\n",
    "if not os.path.isdir(train_dir):\n",
    "    os.mkdir(train_dir)\n",
    "if not os.path.isdir(val_dir):\n",
    "    os.mkdir(val_dir)\n",
    "if not os.path.isdir(test_dir):\n",
    "    os.mkdir(test_dir)\n",
    "\n",
    "for clss in classes_list:\n",
    "    clss_dir = os.path.join(train_dir, clss)\n",
    "    if not os.path.isdir(clss_dir):\n",
    "        os.mkdir(clss_dir)\n",
    "    clss_dir = os.path.join(val_dir, clss)\n",
    "    if not os.path.isdir(clss_dir):\n",
    "        os.mkdir(clss_dir)\n",
    "    clss_dir = os.path.join(test_dir, clss)\n",
    "    if not os.path.isdir(clss_dir):\n",
    "        os.mkdir(clss_dir)"
   ]
  },
  {
   "cell_type": "markdown",
   "metadata": {},
   "source": [
    "### [데이터 분할과 클래스별 데이터 수 확인]"
   ]
  },
  {
   "cell_type": "code",
   "execution_count": 3,
   "metadata": {},
   "outputs": [
    {
     "name": "stdout",
     "output_type": "stream",
     "text": [
      "['Strawberry___healthy', 'Grape___Black_rot', 'Potato___Early_blight', 'Cherry___Powdery_mildew', 'Tomato___Target_Spot', '.DS_Store', 'Peach___healthy', 'Potato___Late_blight', 'Tomato___Late_blight', 'Tomato___Tomato_mosaic_virus', 'Pepper,_bell___healthy', 'Tomato___Leaf_Mold', 'Grape___Leaf_blight_(Isariopsis_Leaf_Spot)', 'Apple___Cedar_apple_rust', 'Tomato___Bacterial_spot', 'Grape___healthy', 'Corn___Cercospora_leaf_spot Gray_leaf_spot', 'Tomato___Early_blight', 'Grape___Esca_(Black_Measles)', 'Tomato___healthy', 'Corn___Northern_Leaf_Blight', 'Tomato___Tomato_Yellow_Leaf_Curl_Virus', 'Cherry___healthy', 'Apple___Apple_scab', 'Tomato___Spider_mites Two-spotted_spider_mite', 'Corn___Common_rust', 'Peach___Bacterial_spot', 'Pepper,_bell___Bacterial_spot', 'Tomato___Septoria_leaf_spot', 'Corn___healthy', 'Apple___Black_rot', 'Apple___healthy', 'Strawberry___Leaf_scorch', 'Potato___healthy']\n",
      "Train size( Strawberry___healthy ):  273\n",
      "Val size( Strawberry___healthy ):  91\n",
      "Test size( Strawberry___healthy ):  92\n",
      "Train size( Grape___Black_rot ):  708\n",
      "Val size( Grape___Black_rot ):  236\n",
      "Test size( Grape___Black_rot ):  236\n",
      "Train size( Potato___Early_blight ):  600\n",
      "Val size( Potato___Early_blight ):  200\n",
      "Test size( Potato___Early_blight ):  200\n",
      "Train size( Cherry___Powdery_mildew ):  631\n",
      "Val size( Cherry___Powdery_mildew ):  210\n",
      "Test size( Cherry___Powdery_mildew ):  211\n",
      "Train size( Tomato___Target_Spot ):  842\n",
      "Val size( Tomato___Target_Spot ):  280\n",
      "Test size( Tomato___Target_Spot ):  282\n",
      "Train size( Peach___healthy ):  216\n",
      "Val size( Peach___healthy ):  72\n",
      "Test size( Peach___healthy ):  72\n",
      "Train size( Potato___Late_blight ):  600\n",
      "Val size( Potato___Late_blight ):  200\n",
      "Test size( Potato___Late_blight ):  200\n",
      "Train size( Tomato___Late_blight ):  1145\n",
      "Val size( Tomato___Late_blight ):  381\n",
      "Test size( Tomato___Late_blight ):  383\n",
      "Train size( Tomato___Tomato_mosaic_virus ):  223\n",
      "Val size( Tomato___Tomato_mosaic_virus ):  74\n",
      "Test size( Tomato___Tomato_mosaic_virus ):  76\n",
      "Train size( Pepper,_bell___healthy ):  886\n",
      "Val size( Pepper,_bell___healthy ):  295\n",
      "Test size( Pepper,_bell___healthy ):  297\n",
      "Train size( Tomato___Leaf_Mold ):  571\n",
      "Val size( Tomato___Leaf_Mold ):  190\n",
      "Test size( Tomato___Leaf_Mold ):  191\n",
      "Train size( Grape___Leaf_blight_(Isariopsis_Leaf_Spot) ):  645\n",
      "Val size( Grape___Leaf_blight_(Isariopsis_Leaf_Spot) ):  215\n",
      "Test size( Grape___Leaf_blight_(Isariopsis_Leaf_Spot) ):  216\n",
      "Train size( Apple___Cedar_apple_rust ):  165\n",
      "Val size( Apple___Cedar_apple_rust ):  55\n",
      "Test size( Apple___Cedar_apple_rust ):  55\n",
      "Train size( Tomato___Bacterial_spot ):  1276\n",
      "Val size( Tomato___Bacterial_spot ):  425\n",
      "Test size( Tomato___Bacterial_spot ):  426\n",
      "Train size( Grape___healthy ):  253\n",
      "Val size( Grape___healthy ):  84\n",
      "Test size( Grape___healthy ):  86\n",
      "Train size( Corn___Cercospora_leaf_spot Gray_leaf_spot ):  307\n",
      "Val size( Corn___Cercospora_leaf_spot Gray_leaf_spot ):  102\n",
      "Test size( Corn___Cercospora_leaf_spot Gray_leaf_spot ):  104\n",
      "Train size( Tomato___Early_blight ):  600\n",
      "Val size( Tomato___Early_blight ):  200\n",
      "Test size( Tomato___Early_blight ):  200\n",
      "Train size( Grape___Esca_(Black_Measles) ):  829\n",
      "Val size( Grape___Esca_(Black_Measles) ):  276\n",
      "Test size( Grape___Esca_(Black_Measles) ):  278\n",
      "Train size( Tomato___healthy ):  954\n",
      "Val size( Tomato___healthy ):  318\n",
      "Test size( Tomato___healthy ):  319\n",
      "Train size( Corn___Northern_Leaf_Blight ):  591\n",
      "Val size( Corn___Northern_Leaf_Blight ):  197\n",
      "Test size( Corn___Northern_Leaf_Blight ):  197\n",
      "Train size( Tomato___Tomato_Yellow_Leaf_Curl_Virus ):  3214\n",
      "Val size( Tomato___Tomato_Yellow_Leaf_Curl_Virus ):  1071\n",
      "Test size( Tomato___Tomato_Yellow_Leaf_Curl_Virus ):  1072\n",
      "Train size( Cherry___healthy ):  512\n",
      "Val size( Cherry___healthy ):  170\n",
      "Test size( Cherry___healthy ):  172\n",
      "Train size( Apple___Apple_scab ):  378\n",
      "Val size( Apple___Apple_scab ):  126\n",
      "Test size( Apple___Apple_scab ):  126\n",
      "Train size( Tomato___Spider_mites Two-spotted_spider_mite ):  1005\n",
      "Val size( Tomato___Spider_mites Two-spotted_spider_mite ):  335\n",
      "Test size( Tomato___Spider_mites Two-spotted_spider_mite ):  336\n",
      "Train size( Corn___Common_rust ):  715\n",
      "Val size( Corn___Common_rust ):  238\n",
      "Test size( Corn___Common_rust ):  239\n",
      "Train size( Peach___Bacterial_spot ):  1378\n",
      "Val size( Peach___Bacterial_spot ):  459\n",
      "Test size( Peach___Bacterial_spot ):  460\n",
      "Train size( Pepper,_bell___Bacterial_spot ):  598\n",
      "Val size( Pepper,_bell___Bacterial_spot ):  199\n",
      "Test size( Pepper,_bell___Bacterial_spot ):  200\n",
      "Train size( Tomato___Septoria_leaf_spot ):  1062\n",
      "Val size( Tomato___Septoria_leaf_spot ):  354\n",
      "Test size( Tomato___Septoria_leaf_spot ):  355\n",
      "Train size( Corn___healthy ):  697\n",
      "Val size( Corn___healthy ):  232\n",
      "Test size( Corn___healthy ):  233\n",
      "Train size( Apple___Black_rot ):  372\n",
      "Val size( Apple___Black_rot ):  124\n",
      "Test size( Apple___Black_rot ):  125\n",
      "Train size( Apple___healthy ):  987\n",
      "Val size( Apple___healthy ):  329\n",
      "Test size( Apple___healthy ):  329\n",
      "Train size( Strawberry___Leaf_scorch ):  665\n",
      "Val size( Strawberry___Leaf_scorch ):  221\n",
      "Test size( Strawberry___Leaf_scorch ):  223\n",
      "Train size( Potato___healthy ):  91\n",
      "Val size( Potato___healthy ):  30\n",
      "Test size( Potato___healthy ):  31\n"
     ]
    }
   ],
   "source": [
    "import math\n",
    "\n",
    "print(classes_list)\n",
    "\n",
    "for clss in classes_list:\n",
    "    if (clss == '.DS_Store'): continue\n",
    "    path = os.path.join(original_dataset_dir, clss)\n",
    "    fnames = os.listdir(path)\n",
    "\n",
    "    train_size = math.floor(len(fnames) * 0.6)\n",
    "    val_size = math.floor(len(fnames) * 0.2)\n",
    "    test_size = math.floor(len(fnames) * 0.2)\n",
    "\n",
    "    train_fnames = fnames[:train_size]\n",
    "    print('Train size(', clss, '): ', len(train_fnames))\n",
    "    for fname in train_fnames:\n",
    "        src = os.path.join(path, fname)\n",
    "        dst = os.path.join(os.path.join(train_dir, clss), fname)\n",
    "        if not os.path.exists(dst):\n",
    "            shutil.copyfile(src, dst)\n",
    "    \n",
    "    val_fnames = fnames[train_size:(train_size+val_size)]\n",
    "    print('Val size(', clss, '): ', len(val_fnames))\n",
    "    for fname in val_fnames:\n",
    "        src = os.path.join(path, fname)\n",
    "        dst = os.path.join(os.path.join(val_dir, clss), fname)\n",
    "        if not os.path.exists(dst):\n",
    "            shutil.copyfile(src, dst)\n",
    "    \n",
    "    test_fnames = fnames[(train_size+val_size):]\n",
    "    print('Test size(', clss, '): ', len(test_fnames))\n",
    "    for fname in test_fnames:\n",
    "        src = os.path.join(path, fname)\n",
    "        dst = os.path.join(os.path.join(test_dir, clss), fname)\n",
    "        if not os.path.exists(dst):\n",
    "            shutil.copyfile(src, dst)\n"
   ]
  },
  {
   "cell_type": "markdown",
   "metadata": {},
   "source": [
    "### [베이스라인 모델 학습을 위한 준비]"
   ]
  },
  {
   "cell_type": "markdown",
   "metadata": {},
   "source": [
    "_Rawdata -> Rawdata Processing -> Dataset -> DataLoader_"
   ]
  },
  {
   "cell_type": "markdown",
   "metadata": {},
   "source": [
    "_num\\_workers 인수는 GPU와 관련이 있다._"
   ]
  },
  {
   "cell_type": "code",
   "execution_count": 7,
   "metadata": {},
   "outputs": [],
   "source": [
    "import torch\n",
    "\n",
    "USE_CUDA = torch.cuda.is_available()\n",
    "DEVICE = torch.device('cuda' if USE_CUDA else 'cpu')\n",
    "\n",
    "BATCH_SIZE = 256\n",
    "EPOCH = 30\n",
    "\n",
    "import torchvision.transforms as transforms\n",
    "from torchvision.datasets import ImageFolder\n",
    "\n",
    "# transforms.Compose 함수는 이미지 전처리에 사용됨\n",
    "# Image Augmentation이나 Rotation 할때도 사용됨\n",
    "transform_base = transforms.Compose([transforms.Resize((64, 64)), transforms.ToTensor()]) \n",
    "\n",
    "# ImageFolder 함수는 하나의 클래스가 하나의 폴더에 대응될때 사용됨\n",
    "train_ds = ImageFolder(root='./dataset/train', transform=transform_base)\n",
    "val_ds = ImageFolder(root='./dataset/val', transform=transform_base)\n",
    "\n",
    "from torch.utils.data import DataLoader\n",
    "\n",
    "train_loader = torch.utils.data.DataLoader(train_ds, batch_size = BATCH_SIZE, shuffle=True, num_workers=4)\n",
    "val_loader = torch.utils.data.DataLoader(val_ds, batch_size = BATCH_SIZE, shuffle=True, num_workers=4)"
   ]
  },
  {
   "cell_type": "code",
   "execution_count": 11,
   "metadata": {},
   "outputs": [
    {
     "name": "stdout",
     "output_type": "stream",
     "text": [
      "name            | type                      | size\n",
      "Num of Batch    |                           | 94\n",
      "first_batch     | <class 'list'>            | 2\n",
      "first_batch[0]  | <class 'torch.Tensor'>    | torch.Size([256, 3, 64, 64])\n",
      "first_batch[1]  | <class 'torch.Tensor'>    | torch.Size([256])\n"
     ]
    }
   ],
   "source": [
    "first_batch = train_loader.__iter__().__next__()\n",
    "\n",
    "print('{:15s} | {:<25s} | {}'.format('name', 'type', 'size'))\n",
    "print('{:15s} | {:<25s} | {}'.format('Num of Batch', '', len(train_loader)))\n",
    "print('{:15s} | {:<25s} | {}'.format('first_batch', str(type(first_batch)), len(first_batch)))\n",
    "print('{:15s} | {:<25s} | {}'.format('first_batch[0]', str(type(first_batch[0])), first_batch[0].shape))\n",
    "print('{:15s} | {:<25s} | {}'.format('first_batch[1]', str(type(first_batch[1])), first_batch[1].shape))"
   ]
  },
  {
   "cell_type": "markdown",
   "metadata": {},
   "source": [
    "### [베이스라인 모델 설계]"
   ]
  },
  {
   "cell_type": "code",
   "execution_count": 10,
   "metadata": {},
   "outputs": [],
   "source": [
    "import torch.nn as nn\n",
    "import torch.nn.functional as F\n",
    "import torch.optim as optim\n",
    "\n",
    "class Net(nn.Module):\n",
    "    def __init__(self):\n",
    "        super(Net, self).__init__()\n",
    "        self.conv1 = nn.Conv2d(3, 32, 3, padding=1)\n",
    "        self.pool = nn.MaxPool2d(2, 2)\n",
    "        self.conv2 = nn.Conv2d(32, 64, 3, padding=1)\n",
    "        self.conv3 = nn.Conv2d(64, 64, 3, padding=1)\n",
    "\n",
    "        self.fc1 = nn.Linear(4096, 512)\n",
    "        self.fc2 = nn.Linear(512, 33)\n",
    "    \n",
    "    def forward(self, x):\n",
    "\n",
    "        x = self.conv1(x)\n",
    "        x = F.relu(x)\n",
    "        x = self.pool(x)\n",
    "        x = F.dropout(x, p=0.25, training=self.training)\n",
    "\n",
    "        x = self.conv2(x)\n",
    "        x = F.relu(x)\n",
    "        x = self.pool(x)\n",
    "        x = F.dropout(x, p=0.25, training=self.training)\n",
    "\n",
    "        x = self.conv3(x)\n",
    "        x = F.relu(x)\n",
    "        x = self.pool(x)\n",
    "        x = F.dropout(x, p=0.25, training=self.training)\n",
    "\n",
    "        x = x.view(-1, 4096) # Flatten\n",
    "        x = self.fc1(x)\n",
    "        x = F.relu(x)\n",
    "        x = F.dropout(x, p=0.5, training=self.training)\n",
    "        x = self.fc2(x)\n",
    "\n",
    "        return F.log_softmax(x, dim=1)\n",
    "\n",
    "model_base = Net().to(DEVICE)\n",
    "optimizer = optim.Adam(model_base.parameters(), lr=0.001)\n",
    "\n"
   ]
  },
  {
   "cell_type": "markdown",
   "metadata": {},
   "source": [
    "### [모델 학습을 위한 함수]"
   ]
  },
  {
   "cell_type": "code",
   "execution_count": 12,
   "metadata": {},
   "outputs": [],
   "source": [
    "def train(model, train_loader, optimizer):\n",
    "    model.train()\n",
    "    for batch_idx, (data, target) in enumerate(train_loader):\n",
    "        data, target = data.to(DEVICE), target.to(DEVICE)\n",
    "        optimizer.zero_grad()\n",
    "        output = model(data)\n",
    "        loss = F.cross_entropy(output, target)\n",
    "        loss.backward()\n",
    "        optimizer.step()"
   ]
  },
  {
   "cell_type": "markdown",
   "metadata": {},
   "source": [
    "### [모델 평가를 위한 함수]"
   ]
  },
  {
   "cell_type": "code",
   "execution_count": 13,
   "metadata": {},
   "outputs": [],
   "source": [
    "def evaluate(model, test_loader):\n",
    "    model.eval()\n",
    "    test_loss = 0\n",
    "    correct = 0\n",
    "\n",
    "    with torch.no_grad:\n",
    "        for data, target in test_loader:\n",
    "            data, target = data.to(DEVICE), target.to(DEVICE)\n",
    "            output = model(data)\n",
    "            test_loss += F.cross_entropy(output, target, reduction='sum').item()\n",
    "\n",
    "            pred = output.max(1, keepdim=True)[1]\n",
    "\n",
    "            print(pred.shape)\n",
    "            break\n",
    "\n",
    "            correct += pred.eq(target.view_as(pred)).sum().item()\n",
    "    test_loss /= len(test_loader.dataset) # test dataset의 전체 loss\n",
    "    test_acc = 100 * correct / len(test_loader.dataset)\n",
    "    return test_loss, test_acc"
   ]
  },
  {
   "cell_type": "markdown",
   "metadata": {},
   "source": [
    "### [모델 학습 실행하기]"
   ]
  },
  {
   "cell_type": "code",
   "execution_count": null,
   "metadata": {},
   "outputs": [],
   "source": [
    "import time\n"
   ]
  },
  {
   "cell_type": "markdown",
   "metadata": {},
   "source": []
  }
 ],
 "metadata": {
  "kernelspec": {
   "display_name": "UsePyTorch",
   "language": "python",
   "name": "python3"
  },
  "language_info": {
   "codemirror_mode": {
    "name": "ipython",
    "version": 3
   },
   "file_extension": ".py",
   "mimetype": "text/x-python",
   "name": "python",
   "nbconvert_exporter": "python",
   "pygments_lexer": "ipython3",
   "version": "3.11.5"
  },
  "orig_nbformat": 4
 },
 "nbformat": 4,
 "nbformat_minor": 2
}
